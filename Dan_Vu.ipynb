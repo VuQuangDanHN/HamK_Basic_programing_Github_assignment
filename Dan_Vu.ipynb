{
  "nbformat": 4,
  "nbformat_minor": 0,
  "metadata": {
    "colab": {
      "provenance": [],
      "authorship_tag": "ABX9TyMMotJtthVXlUenbmsrWvgG",
      "include_colab_link": true
    },
    "kernelspec": {
      "name": "python3",
      "display_name": "Python 3"
    },
    "language_info": {
      "name": "python"
    }
  },
  "cells": [
    {
      "cell_type": "markdown",
      "metadata": {
        "id": "view-in-github",
        "colab_type": "text"
      },
      "source": [
        "<a href=\"https://colab.research.google.com/github/VuQuangDanHN/HamK_Basic_programing_Github_assignment/blob/main/Dan_Vu.ipynb\" target=\"_parent\"><img src=\"https://colab.research.google.com/assets/colab-badge.svg\" alt=\"Open In Colab\"/></a>"
      ]
    },
    {
      "cell_type": "markdown",
      "source": [
        "**EX1:**"
      ],
      "metadata": {
        "id": "789zxUDUl36Q"
      }
    },
    {
      "cell_type": "code",
      "source": [
        "# Define a function that uses conditional checks to determine the grade based on points\n",
        "def determine_grade(points):\n",
        "    if points < 45:\n",
        "        return \"Grade is 0.\"\n",
        "    elif points < 55:\n",
        "        return \"Grade is 1.\"\n",
        "    elif points < 65:\n",
        "        return \"Grade is 2.\"\n",
        "    elif points < 75:\n",
        "        return \"Grade is 3.\"\n",
        "    elif points < 85:\n",
        "        return \"Grade is 4.\"\n",
        "    else:\n",
        "        return \"Grade is 5.\"\n",
        "\n",
        "# Example usage of the function\n",
        "# Define a list of example points to check the conditions\n",
        "example_points = [44, 54, 64, 74, 84, 94]\n",
        "\n",
        "# Determine the grade for each example point value\n",
        "grades_output = [determine_grade(point) for point in example_points]\n",
        "grades_output\n"
      ],
      "metadata": {
        "colab": {
          "base_uri": "https://localhost:8080/"
        },
        "id": "qjzKs9HjhZkt",
        "outputId": "14644c35-03f8-4b2d-afc0-26362cd7820b"
      },
      "execution_count": 8,
      "outputs": [
        {
          "output_type": "execute_result",
          "data": {
            "text/plain": [
              "['Grade is 0.',\n",
              " 'Grade is 1.',\n",
              " 'Grade is 2.',\n",
              " 'Grade is 3.',\n",
              " 'Grade is 4.',\n",
              " 'Grade is 5.']"
            ]
          },
          "metadata": {},
          "execution_count": 8
        }
      ]
    },
    {
      "cell_type": "markdown",
      "source": [
        "**EX2:**"
      ],
      "metadata": {
        "id": "xmmq4xv-l9R_"
      }
    },
    {
      "cell_type": "code",
      "source": [
        "# Since the environment does not support direct user input, I will write a function that takes a number as an argument\n",
        "# and prints the multiplication table for that number from 1 to 10.\n",
        "\n",
        "def print_multiplication_table(number):\n",
        "    # Loop from 1 to 10 to create the multiplication table\n",
        "    for i in range(1, 11):\n",
        "        print(f\"{number} * {i} = {number * i}\")\n",
        "\n",
        "# We will call the function with an example number, say 5, to demonstrate the output.\n",
        "# In a typical scenario, you would call print_multiplication_table(number) where 'number' is the user input.\n",
        "\n",
        "# Demonstrate the multiplication table for number 5\n",
        "print_multiplication_table(5)\n",
        "\n"
      ],
      "metadata": {
        "colab": {
          "base_uri": "https://localhost:8080/"
        },
        "id": "ckrUL0RZjhx_",
        "outputId": "3310acc1-22f3-402c-d5e0-21d21a9b9ad3"
      },
      "execution_count": 27,
      "outputs": [
        {
          "output_type": "stream",
          "name": "stdout",
          "text": [
            "5 * 1 = 5\n",
            "5 * 2 = 10\n",
            "5 * 3 = 15\n",
            "5 * 4 = 20\n",
            "5 * 5 = 25\n",
            "5 * 6 = 30\n",
            "5 * 7 = 35\n",
            "5 * 8 = 40\n",
            "5 * 9 = 45\n",
            "5 * 10 = 50\n"
          ]
        }
      ]
    },
    {
      "cell_type": "markdown",
      "source": [
        "**EX3:**"
      ],
      "metadata": {
        "id": "KBaiGLiHmCdW"
      }
    },
    {
      "cell_type": "code",
      "source": [
        "import numpy as np\n",
        "\n",
        "# Generate 5 random numbers between 1 and 10 using numpy's random.randint function\n",
        "random_numbers = np.random.randint(1, 11, size=5)  # 11 is exclusive\n",
        "\n",
        "# Print the generated numbers\n",
        "random_numbers\n"
      ],
      "metadata": {
        "colab": {
          "base_uri": "https://localhost:8080/"
        },
        "id": "6e5nuub6kiet",
        "outputId": "5aa19431-8d6b-499b-d2ef-3a5c61c17adb"
      },
      "execution_count": 10,
      "outputs": [
        {
          "output_type": "execute_result",
          "data": {
            "text/plain": [
              "array([10, 10,  8,  1,  6])"
            ]
          },
          "metadata": {},
          "execution_count": 10
        }
      ]
    },
    {
      "cell_type": "markdown",
      "source": [
        "**EX4:**"
      ],
      "metadata": {
        "id": "BvKL5EqlmG0k"
      }
    },
    {
      "cell_type": "code",
      "source": [
        "# Let's correct the code to properly handle the mode value which is a scalar in this case since all numbers in the array are unique.\n",
        "\n",
        "# Create a numpy array with 10 numbers named numpy_array\n",
        "numpy_array = np.array([5, 10, 15, 20, 25, 30, 35, 40, 45, 50])\n",
        "\n",
        "# Calculate mean, median, and standard deviation\n",
        "mean_value = np.mean(numpy_array)\n",
        "median_value = np.median(numpy_array)\n",
        "std_dev_value = np.std(numpy_array)\n",
        "\n",
        "# Since all elements are unique in this numpy array, mode would not be meaningful.\n",
        "# However, to follow the instructions, we'll use the first value as the mode.\n",
        "# In a real-world scenario, you would check if all values are unique first.\n",
        "mode_value = numpy_array[0]\n",
        "\n",
        "# Print each value\n",
        "print(f\"The Mean is {mean_value}\")\n",
        "print(f\"The Median is {median_value}\")\n",
        "print(f\"The Mode is {mode_value}\")\n",
        "print(f\"The Standard Deviation is {std_dev_value}\")\n"
      ],
      "metadata": {
        "colab": {
          "base_uri": "https://localhost:8080/"
        },
        "id": "GSyfV193lq14",
        "outputId": "f2492900-3d40-4f52-870c-ef3f697ece81"
      },
      "execution_count": 22,
      "outputs": [
        {
          "output_type": "stream",
          "name": "stdout",
          "text": [
            "The Mean is 27.5\n",
            "The Median is 27.5\n",
            "The Mode is 5\n",
            "The Standard Deviation is 14.361406616345072\n"
          ]
        }
      ]
    },
    {
      "cell_type": "markdown",
      "source": [
        "**EX5:**"
      ],
      "metadata": {
        "id": "BIc-v0VlnXw7"
      }
    },
    {
      "cell_type": "code",
      "source": [
        "# Create an array of values from 0 to 10 in increments of 2\n",
        "evenly_spaced_array = np.arange(0, 11, 2)\n",
        "\n",
        "# Print the array\n",
        "print(\"Evenly spaced array:\", evenly_spaced_array)"
      ],
      "metadata": {
        "colab": {
          "base_uri": "https://localhost:8080/"
        },
        "id": "vEaTtT4jm2zP",
        "outputId": "0ee33a5f-c352-4af1-ab13-15cc575666ba"
      },
      "execution_count": 23,
      "outputs": [
        {
          "output_type": "stream",
          "name": "stdout",
          "text": [
            "Evenly spaced array: [ 0  2  4  6  8 10]\n"
          ]
        }
      ]
    },
    {
      "cell_type": "markdown",
      "source": [
        "**EX6:**"
      ],
      "metadata": {
        "id": "7bGwwjfPnUbq"
      }
    },
    {
      "cell_type": "code",
      "source": [
        "# Find the maximum and minimum values in an array\n",
        "myarray = np.array([12, 13, 11, 5, 6, 7, 8, 9, 100, 223])\n",
        "max_value = np.max(myarray)\n",
        "min_value = np.min(myarray)\n",
        "\n",
        "# Print the maximum and minimum values\n",
        "print(\"Maximum value:\", max_value)\n",
        "print(\"Minimum value:\", min_value)"
      ],
      "metadata": {
        "colab": {
          "base_uri": "https://localhost:8080/"
        },
        "id": "X3aCrPucm98t",
        "outputId": "7ab038ab-a5f1-4ed4-e802-7e4aa60b007c"
      },
      "execution_count": 24,
      "outputs": [
        {
          "output_type": "stream",
          "name": "stdout",
          "text": [
            "Maximum value: 223\n",
            "Minimum value: 5\n"
          ]
        }
      ]
    },
    {
      "cell_type": "markdown",
      "source": [
        "**EX7:**"
      ],
      "metadata": {
        "id": "bYRy-s0InQV1"
      }
    },
    {
      "cell_type": "code",
      "source": [
        "# Create a simple function to calculate the area of a rectangle\n",
        "def calculate_area(length, width):\n",
        "    return length * width\n",
        "\n",
        "# Call the function with the provided values\n",
        "length = 5.5\n",
        "width = 6.5\n",
        "area_of_rectangle = calculate_area(length, width)\n",
        "\n",
        "# Print the area of the rectangle\n",
        "print(\"Area of the rectangle:\", area_of_rectangle)\n"
      ],
      "metadata": {
        "colab": {
          "base_uri": "https://localhost:8080/"
        },
        "id": "WAn1QWJVnPxS",
        "outputId": "9630320e-6dc0-46be-b592-3d19f07d843d"
      },
      "execution_count": 26,
      "outputs": [
        {
          "output_type": "stream",
          "name": "stdout",
          "text": [
            "Area of the rectangle: 35.75\n"
          ]
        }
      ]
    }
  ]
}