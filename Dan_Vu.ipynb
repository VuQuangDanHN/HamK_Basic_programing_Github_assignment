{
  "nbformat": 4,
  "nbformat_minor": 0,
  "metadata": {
    "colab": {
      "provenance": [],
      "authorship_tag": "ABX9TyNBLYeNvBk4DfOcWxhXmUKv",
      "include_colab_link": true
    },
    "kernelspec": {
      "name": "python3",
      "display_name": "Python 3"
    },
    "language_info": {
      "name": "python"
    }
  },
  "cells": [
    {
      "cell_type": "markdown",
      "metadata": {
        "id": "view-in-github",
        "colab_type": "text"
      },
      "source": [
        "<a href=\"https://colab.research.google.com/github/VuQuangDanHN/HamK_Basic_programing_Github_assignment/blob/main/Dan_Vu.ipynb\" target=\"_parent\"><img src=\"https://colab.research.google.com/assets/colab-badge.svg\" alt=\"Open In Colab\"/></a>"
      ]
    },
    {
      "cell_type": "markdown",
      "source": [
        "BASIC OF DATA ANALYSIS Assignment 3 - Control Flow, Loop, Functions & Numpy"
      ],
      "metadata": {
        "id": "AB4P7kWyprAB"
      }
    },
    {
      "cell_type": "markdown",
      "source": [
        "**EX1:**"
      ],
      "metadata": {
        "id": "789zxUDUl36Q"
      }
    },
    {
      "cell_type": "code",
      "source": [
        "# Define a function that uses conditional checks to determine the grade based on points\n",
        "def determine_grade(points):\n",
        "    if points < 45:\n",
        "        return \"Grade is 0.\"\n",
        "    elif points < 55:\n",
        "        return \"Grade is 1.\"\n",
        "    elif points < 65:\n",
        "        return \"Grade is 2.\"\n",
        "    elif points < 75:\n",
        "        return \"Grade is 3.\"\n",
        "    elif points < 85:\n",
        "        return \"Grade is 4.\"\n",
        "    else:\n",
        "        return \"Grade is 5.\"\n",
        "\n",
        "# Example usage of the function\n",
        "# Define a list of example points to check the conditions\n",
        "example_points = [44, 54, 64, 74, 84, 94]\n",
        "\n",
        "# Determine the grade for each example point value\n",
        "grades_output = [determine_grade(point) for point in example_points]\n",
        "grades_output\n"
      ],
      "metadata": {
        "colab": {
          "base_uri": "https://localhost:8080/"
        },
        "id": "qjzKs9HjhZkt",
        "outputId": "b950daa0-2769-4d45-850f-51a8dfd78fee"
      },
      "execution_count": 30,
      "outputs": [
        {
          "output_type": "execute_result",
          "data": {
            "text/plain": [
              "['Grade is 0.',\n",
              " 'Grade is 1.',\n",
              " 'Grade is 2.',\n",
              " 'Grade is 3.',\n",
              " 'Grade is 4.',\n",
              " 'Grade is 5.']"
            ]
          },
          "metadata": {},
          "execution_count": 30
        }
      ]
    },
    {
      "cell_type": "markdown",
      "source": [
        "**EX2:**"
      ],
      "metadata": {
        "id": "xmmq4xv-l9R_"
      }
    },
    {
      "cell_type": "code",
      "source": [
        "\n",
        "\n",
        "#  Function to print multiplication table of a given number\n",
        "def print_multiplication_table(number):\n",
        "    for i in range(1, 11):\n",
        "        print(f\"{number} * {i} = {number * i}\")\n",
        "\n",
        "# Call the functions with example values\n",
        "determine_grade()  # This should be replaced with user input in a real scenario\n",
        "print(\"Multiplication table for number 5:\")\n",
        "print_multiplication_table(5)  # Replace 5 with user input in a real scenario\n"
      ],
      "metadata": {
        "colab": {
          "base_uri": "https://localhost:8080/"
        },
        "id": "ckrUL0RZjhx_",
        "outputId": "8f0e6941-05a9-4743-e897-3e5e443f9d5d"
      },
      "execution_count": 40,
      "outputs": [
        {
          "output_type": "stream",
          "name": "stdout",
          "text": [
            "Grade based on points 80 is: 4\n",
            "Multiplication table for number 5:\n",
            "5 * 1 = 5\n",
            "5 * 2 = 10\n",
            "5 * 3 = 15\n",
            "5 * 4 = 20\n",
            "5 * 5 = 25\n",
            "5 * 6 = 30\n",
            "5 * 7 = 35\n",
            "5 * 8 = 40\n",
            "5 * 9 = 45\n",
            "5 * 10 = 50\n"
          ]
        }
      ]
    },
    {
      "cell_type": "markdown",
      "source": [
        "**EX3:**"
      ],
      "metadata": {
        "id": "KBaiGLiHmCdW"
      }
    },
    {
      "cell_type": "code",
      "source": [
        "import numpy as np\n",
        "\n",
        "# Generate 5 random numbers between 1 and 10 using numpy's random.randint function\n",
        "random_numbers = np.random.randint(1, 11, size=5)  # 11 is exclusive\n",
        "\n",
        "# Print the generated numbers\n",
        "random_numbers\n"
      ],
      "metadata": {
        "colab": {
          "base_uri": "https://localhost:8080/"
        },
        "id": "6e5nuub6kiet",
        "outputId": "2f6f47a8-3a6d-4b63-80fd-6ec009503017"
      },
      "execution_count": 44,
      "outputs": [
        {
          "output_type": "execute_result",
          "data": {
            "text/plain": [
              "array([8, 8, 1, 8, 6])"
            ]
          },
          "metadata": {},
          "execution_count": 44
        }
      ]
    },
    {
      "cell_type": "markdown",
      "source": [
        "**EX4:**"
      ],
      "metadata": {
        "id": "BvKL5EqlmG0k"
      }
    },
    {
      "cell_type": "code",
      "source": [
        "# Let's correct the code to properly handle the mode value which is a scalar in this case since all numbers in the array are unique.\n",
        "\n",
        "# Create a numpy array with 10 numbers named numpy_array\n",
        "numpy_array = np.array([5, 10, 15, 20, 25, 30, 35, 40, 45, 50])\n",
        "\n",
        "# Calculate mean, median, and standard deviation\n",
        "mean_value = np.mean(numpy_array)\n",
        "median_value = np.median(numpy_array)\n",
        "std_dev_value = np.std(numpy_array)\n",
        "\n",
        "# Since all elements are unique in this numpy array, mode would not be meaningful.\n",
        "# However, to follow the instructions, we'll use the first value as the mode.\n",
        "# In a real-world scenario, you would check if all values are unique first.\n",
        "mode_value = numpy_array[0]\n",
        "\n",
        "# Print each value\n",
        "print(f\"The Mean is {mean_value}\")\n",
        "print(f\"The Median is {median_value}\")\n",
        "print(f\"The Mode is {mode_value}\")\n",
        "print(f\"The Standard Deviation is {std_dev_value}\")\n"
      ],
      "metadata": {
        "colab": {
          "base_uri": "https://localhost:8080/"
        },
        "id": "GSyfV193lq14",
        "outputId": "a933d1e3-70be-43a7-9c7c-490aec5f54c8"
      },
      "execution_count": 45,
      "outputs": [
        {
          "output_type": "stream",
          "name": "stdout",
          "text": [
            "The Mean is 27.5\n",
            "The Median is 27.5\n",
            "The Mode is 5\n",
            "The Standard Deviation is 14.361406616345072\n"
          ]
        }
      ]
    },
    {
      "cell_type": "markdown",
      "source": [
        "**EX5:**"
      ],
      "metadata": {
        "id": "BIc-v0VlnXw7"
      }
    },
    {
      "cell_type": "code",
      "source": [
        "# Create an array of values from 0 to 10 in increments of 2\n",
        "evenly_spaced_array = np.arange(0, 11, 2)\n",
        "\n",
        "# Print the array\n",
        "print(\"Evenly spaced array:\", evenly_spaced_array)"
      ],
      "metadata": {
        "colab": {
          "base_uri": "https://localhost:8080/"
        },
        "id": "vEaTtT4jm2zP",
        "outputId": "b9b6eca5-e610-427d-be83-b4193bb61d84"
      },
      "execution_count": 41,
      "outputs": [
        {
          "output_type": "stream",
          "name": "stdout",
          "text": [
            "Evenly spaced array: [ 0  2  4  6  8 10]\n"
          ]
        }
      ]
    },
    {
      "cell_type": "markdown",
      "source": [
        "**EX6:**"
      ],
      "metadata": {
        "id": "7bGwwjfPnUbq"
      }
    },
    {
      "cell_type": "code",
      "source": [
        "# Find the maximum and minimum values in an array\n",
        "myarray = np.array([12, 13, 11, 5, 6, 7, 8, 9, 100, 223])\n",
        "max_value = np.max(myarray)\n",
        "min_value = np.min(myarray)\n",
        "\n",
        "# Print the maximum and minimum values\n",
        "print(\"Maximum value:\", max_value)\n",
        "print(\"Minimum value:\", min_value)"
      ],
      "metadata": {
        "colab": {
          "base_uri": "https://localhost:8080/"
        },
        "id": "X3aCrPucm98t",
        "outputId": "91eed58d-e3ff-4b03-e66b-f913b73d202d"
      },
      "execution_count": 42,
      "outputs": [
        {
          "output_type": "stream",
          "name": "stdout",
          "text": [
            "Maximum value: 223\n",
            "Minimum value: 5\n"
          ]
        }
      ]
    },
    {
      "cell_type": "markdown",
      "source": [
        "**EX7:**"
      ],
      "metadata": {
        "id": "bYRy-s0InQV1"
      }
    },
    {
      "cell_type": "code",
      "source": [
        "# Create a simple function to calculate the area of a rectangle\n",
        "def calculate_area(length, width):\n",
        "    return length * width\n",
        "\n",
        "# Call the function with the provided values\n",
        "length = 5.5\n",
        "width = 6.5\n",
        "area_of_rectangle = calculate_area(length, width)\n",
        "\n",
        "# Print the area of the rectangle\n",
        "print(\"Area of the rectangle:\", area_of_rectangle)\n"
      ],
      "metadata": {
        "colab": {
          "base_uri": "https://localhost:8080/"
        },
        "id": "WAn1QWJVnPxS",
        "outputId": "1ecd6949-d608-4ac6-d44a-7e7860f9c5db"
      },
      "execution_count": 43,
      "outputs": [
        {
          "output_type": "stream",
          "name": "stdout",
          "text": [
            "Area of the rectangle: 35.75\n"
          ]
        }
      ]
    }
  ]
}